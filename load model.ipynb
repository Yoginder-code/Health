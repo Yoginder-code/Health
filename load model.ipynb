{
 "cells": [
  {
   "cell_type": "code",
   "execution_count": 9,
   "id": "a3e15768-7626-4718-a604-1386d8807817",
   "metadata": {},
   "outputs": [
    {
     "name": "stdout",
     "output_type": "stream",
     "text": [
      "Model and scaler loaded successfully.\n"
     ]
    }
   ],
   "source": [
    "import joblib\n",
    "import pandas as pd\n",
    "# Load the saved model and scaler\n",
    "rf_model = joblib.load('rf_model.pkl')\n",
    "scaler = joblib.load('scaler.pkl')\n",
    "print(\"Model and scaler loaded successfully.\")\n"
   ]
  },
  {
   "cell_type": "code",
   "execution_count": 10,
   "id": "25ec369d-22fd-474d-b637-86ff649af383",
   "metadata": {},
   "outputs": [],
   "source": [
    "# Feature names from your feature importance\n",
    "feature_names = [\n",
    "    'heartRate_num', 'spo2_num', 'temperature_num', 'systolicBP', 'diastolicBP',\n",
    "    'age', 'stepsTaken', 'calorieIntake', 'sleepHours', 'waterIntakeMl',\n",
    "    'mealsSkipped', 'exerciseMinutes', 'bathroomVisits'\n",
    "]\n"
   ]
  },
  {
   "cell_type": "code",
   "execution_count": 11,
   "id": "40b2b442-59ca-45ea-8d8f-1a8563c04d89",
   "metadata": {},
   "outputs": [],
   "source": [
    "# Function to get user input\n",
    "def get_user_input():\n",
    "    print(\"Enter the following feature values:\")\n",
    "    user_data = {}\n",
    "    for feature in feature_names:\n",
    "        while True:\n",
    "            try:\n",
    "                value = float(input(f\"Enter {feature}: \"))\n",
    "                # Basic range validation\n",
    "                if feature == 'spo2_num' and (value < 0 or value > 100):\n",
    "                    print(f\"{feature} must be between 0 and 100.\")\n",
    "                    continue\n",
    "                if feature in ['heartRate_num', 'systolicBP', 'diastolicBP', 'age', 'stepsTaken', 'calorieIntake', 'sleepHours', 'waterIntakeMl', 'mealsSkipped', 'exerciseMinutes', 'bathroomVisits'] and value < 0:\n",
    "                    print(f\"{feature} cannot be negative.\")\n",
    "                    continue\n",
    "                if feature == 'temperature_num' and (value < 30 or value > 45):\n",
    "                    print(f\"{feature} must be between 30 and 45°C.\")\n",
    "                    continue\n",
    "                user_data[feature] = value\n",
    "                break\n",
    "            except ValueError:\n",
    "                print(f\"Invalid input for {feature}. Please enter a numeric value.\")\n",
    "    return user_data"
   ]
  },
  {
   "cell_type": "code",
   "execution_count": 12,
   "id": "ff0e8b3b-eb61-4b01-8b23-d90f0747e4c3",
   "metadata": {},
   "outputs": [
    {
     "name": "stdout",
     "output_type": "stream",
     "text": [
      "Enter the following feature values:\n"
     ]
    },
    {
     "name": "stdin",
     "output_type": "stream",
     "text": [
      "Enter heartRate_num:  90\n",
      "Enter spo2_num:  99\n",
      "Enter temperature_num:  35\n",
      "Enter systolicBP:  100\n",
      "Enter diastolicBP:  66\n",
      "Enter age:  22\n",
      "Enter stepsTaken:  100\n",
      "Enter calorieIntake:  100\n",
      "Enter sleepHours:  8\n",
      "Enter waterIntakeMl:  1000\n",
      "Enter mealsSkipped:  3\n",
      "Enter exerciseMinutes:  10\n",
      "Enter bathroomVisits:  3\n"
     ]
    },
    {
     "name": "stdout",
     "output_type": "stream",
     "text": [
      "\n",
      "Prediction: The person is At Risk (1).\n",
      "Probability of Stable (0): 0.10, At Risk (1): 0.90\n"
     ]
    }
   ],
   "source": [
    "# Get user input\n",
    "user_data = get_user_input()\n",
    "\n",
    "# Convert to DataFrame\n",
    "input_df = pd.DataFrame([user_data], columns=feature_names)\n",
    "\n",
    "# Scale the input\n",
    "input_scaled = scaler.transform(input_df)\n",
    "\n",
    "# Predict and get probabilities\n",
    "prediction = rf_model.predict(input_scaled)[0]\n",
    "prob = rf_model.predict_proba(input_scaled)[0]\n",
    "\n",
    "# Map prediction to class label\n",
    "class_label = \"Stable (0)\" if prediction == 0 else \"At Risk (1)\"\n",
    "\n",
    "# Output results\n",
    "print(f\"\\nPrediction: The person is {class_label}.\")\n",
    "print(f\"Probability of Stable (0): {prob[0]:.2f}, At Risk (1): {prob[1]:.2f}\")\n",
    "\n",
    "# Address potential misprediction (Stable when expecting At Risk)\n",
    "if prediction == 0:\n",
    "    print(\"\\nNote: Model predicted 'Stable'. If you expected 'At Risk', trying adjusted threshold (0.4):\")\n",
    "    prediction_adj = 1 if prob[1] > 0.4 else 0\n",
    "    class_label_adj = \"At Risk (1)\" if prediction_adj == 1 else \"Stable (0)\"\n",
    "    print(f\"Adjusted Prediction: The person is {class_label_adj}.\")"
   ]
  },
  {
   "cell_type": "code",
   "execution_count": null,
   "id": "952989be-076b-41cb-a12d-7d09084658f7",
   "metadata": {},
   "outputs": [],
   "source": []
  }
 ],
 "metadata": {
  "kernelspec": {
   "display_name": "Python 3 (ipykernel)",
   "language": "python",
   "name": "python3"
  },
  "language_info": {
   "codemirror_mode": {
    "name": "ipython",
    "version": 3
   },
   "file_extension": ".py",
   "mimetype": "text/x-python",
   "name": "python",
   "nbconvert_exporter": "python",
   "pygments_lexer": "ipython3",
   "version": "3.13.2"
  }
 },
 "nbformat": 4,
 "nbformat_minor": 5
}
